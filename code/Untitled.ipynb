{
 "cells": [
  {
   "cell_type": "code",
   "execution_count": 1,
   "metadata": {},
   "outputs": [],
   "source": [
    "\n",
    "import pandas as pd\n",
    "from selenium import webdriver\n",
    "from selenium.webdriver.common.by import By\n",
    "from selenium.webdriver.support.ui import WebDriverWait\n",
    "from selenium.webdriver.support import expected_conditions as EC\n",
    "from selenium.common.exceptions import TimeoutException\n",
    "from selenium.webdriver.chrome.options import Options\n",
    "from selenium.webdriver.support.ui import Select\n",
    "\n",
    "import time\n"
   ]
  },
  {
   "cell_type": "code",
   "execution_count": 22,
   "metadata": {},
   "outputs": [],
   "source": [
    "driver = webdriver.Chrome()"
   ]
  },
  {
   "cell_type": "code",
   "execution_count": 23,
   "metadata": {},
   "outputs": [],
   "source": [
    "driver.get(\"http://enr.sos.mo.gov/CountyResults.aspx\")"
   ]
  },
  {
   "cell_type": "code",
   "execution_count": 24,
   "metadata": {},
   "outputs": [],
   "source": [
    "counties =  [el.text for el in driver.find_elements(By.XPATH,\"//*[@id='cboCounty']/option\")]"
   ]
  },
  {
   "cell_type": "code",
   "execution_count": 49,
   "metadata": {},
   "outputs": [
    {
     "name": "stdout",
     "output_type": "stream",
     "text": [
      "Adair Andrew Atchison Audrain Barry Barton Bates Benton Bollinger Boone Buchanan Butler Caldwell Callaway Camden Cape Girardeau Carroll Carter Cass Cedar Chariton Christian Clark Clay Clinton Cole Cooper Crawford Dade Dallas Daviess De Kalb Dent Douglas Dunklin Franklin Gasconade Gentry Greene Grundy Harrison Henry Hickory Holt Howard Howell Iron Jackson Jasper Jefferson Johnson Kansas City Knox Laclede Lafayette Lawrence Lewis Lincoln Linn Livingston Macon Madison Maries Marion McDonald Mercer Miller Mississippi Moniteau Monroe Montgomery Morgan New Madrid Newton Nodaway Oregon Osage Ozark Pemiscot Perry Pettis Phelps Pike Platte Polk Pulaski Putnam Ralls Randolph Ray Reynolds Ripley Saline Schuyler Scotland Scott Shannon Shelby St. Charles St. Clair St. Francois St. Louis St. Louis City Ste. Genevieve Stoddard Stone Sullivan Taney Texas Vernon Warren Washington Wayne Webster Worth Wright\n"
     ]
    }
   ],
   "source": [
    "county_names = []\n",
    "race_names = [] \n",
    "candidate_names = [] \n",
    "party_names = []\n",
    "votes = [] \n",
    "for county in counties: \n",
    "    #print \"//select[@name='cboCounty']/option[text()='{}']\".format(county)\n",
    "    driver.find_element(By.XPATH, \"//select[@id='cboCounty']/option[text()='{}']\".format(county)).click()\n",
    "    driver.find_element(By.ID, \"MainContent_btnCountyChange\").click()\n",
    "    time.sleep(3)\n",
    "    table = driver.find_element(By.CLASS_NAME, \"electtable\")\n",
    "    rows = table.find_elements(By.TAG_NAME, \"tr\")\n",
    "    for row in rows: \n",
    "        row_text = [el.text for el in row.find_elements(By.TAG_NAME, \"td\")]\n",
    "        if row_text and  'Precincts Reported' in row_text[3]:\n",
    "            race_name = row_text[0]\n",
    "            #print race_name\n",
    "        elif row_text and row_text[0] != ' ': #candidate name\n",
    "            candidate_names.append(row_text[0])\n",
    "            party_names.append(row_text[1])\n",
    "            votes.append(row_text[2])\n",
    "            race_names.append(race_name)\n",
    "            county_names.append(county)\n",
    "    print county, "
   ]
  },
  {
   "cell_type": "code",
   "execution_count": null,
   "metadata": {},
   "outputs": [],
   "source": []
  },
  {
   "cell_type": "code",
   "execution_count": 21,
   "metadata": {},
   "outputs": [],
   "source": [
    "driver.quit()"
   ]
  },
  {
   "cell_type": "code",
   "execution_count": 50,
   "metadata": {},
   "outputs": [],
   "source": [
    "df = pd.DataFrame({'county': county_names, 'race': race_names, 'candidate': candidate_names, 'party': party_names, 'votes': votes},\n",
    "                 columns = ['county', 'race', 'party','candidate','votes'])"
   ]
  },
  {
   "cell_type": "code",
   "execution_count": 53,
   "metadata": {},
   "outputs": [],
   "source": [
    "df.to_csv(\"MO_primary_by_county.csv\", index = False)"
   ]
  },
  {
   "cell_type": "code",
   "execution_count": null,
   "metadata": {},
   "outputs": [],
   "source": []
  }
 ],
 "metadata": {
  "kernelspec": {
   "display_name": "Python 2",
   "language": "python",
   "name": "python2"
  },
  "language_info": {
   "codemirror_mode": {
    "name": "ipython",
    "version": 2
   },
   "file_extension": ".py",
   "mimetype": "text/x-python",
   "name": "python",
   "nbconvert_exporter": "python",
   "pygments_lexer": "ipython2",
   "version": "2.7.14"
  }
 },
 "nbformat": 4,
 "nbformat_minor": 2
}
